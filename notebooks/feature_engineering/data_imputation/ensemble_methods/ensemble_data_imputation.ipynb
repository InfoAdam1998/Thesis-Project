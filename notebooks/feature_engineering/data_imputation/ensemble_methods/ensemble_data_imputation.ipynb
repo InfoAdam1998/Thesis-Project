{
 "cells": [
  {
   "cell_type": "markdown",
   "metadata": {},
   "source": [
    "Expectation Maximization (EM) algorithm: This is a commonly used method for imputing missing data. The EM algorithm iterates between estimating the missing data (E-step) and maximizing the likelihood of the observed data (M-step). However, it is typically not designed for situations where the imputation model needs to be applied to new test data, which is a common scenario in machine learning.\n",
    "\n",
    "EMreg-KNN (EM algorithm combined with k-Nearest Neighbors): This is a novel supervised imputation method proposed in the study. It integrates the EM algorithm with a regression-based k-NN approach. This hybrid method builds a regression ensemble model for imputing missing values and makes it suitable for future data imputation, thus allowing machine learning models to handle missing values effectively. By using the EM algorithm to model the missing data and then applying a k-NN regression model, the algorithm leverages both the statistical properties of EM and the predictive power of k-NN."
   ]
  },
  {
   "cell_type": "markdown",
   "metadata": {},
   "source": [
    "https://link.springer.com/content/pdf/10.1007/s10044-024-01268-x.pdf"
   ]
  },
  {
   "cell_type": "code",
   "execution_count": null,
   "metadata": {
    "vscode": {
     "languageId": "plaintext"
    }
   },
   "outputs": [],
   "source": []
  },
  {
   "cell_type": "code",
   "execution_count": null,
   "metadata": {
    "vscode": {
     "languageId": "plaintext"
    }
   },
   "outputs": [],
   "source": []
  },
  {
   "cell_type": "code",
   "execution_count": null,
   "metadata": {
    "vscode": {
     "languageId": "plaintext"
    }
   },
   "outputs": [],
   "source": []
  }
 ],
 "metadata": {
  "language_info": {
   "name": "python"
  }
 },
 "nbformat": 4,
 "nbformat_minor": 2
}
